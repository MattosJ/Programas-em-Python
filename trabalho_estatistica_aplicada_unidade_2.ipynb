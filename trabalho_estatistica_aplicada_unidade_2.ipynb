{
  "nbformat": 4,
  "nbformat_minor": 0,
  "metadata": {
    "colab": {
      "provenance": [],
      "include_colab_link": true
    },
    "kernelspec": {
      "name": "python3",
      "display_name": "Python 3"
    },
    "language_info": {
      "name": "python"
    }
  },
  "cells": [
    {
      "cell_type": "markdown",
      "metadata": {
        "id": "view-in-github",
        "colab_type": "text"
      },
      "source": [
        "<a href=\"https://colab.research.google.com/github/MattosJ/Programas-em-Python/blob/main/trabalho_estatistica_aplicada_unidade_2.ipynb\" target=\"_parent\"><img src=\"https://colab.research.google.com/assets/colab-badge.svg\" alt=\"Open In Colab\"/></a>"
      ]
    },
    {
      "cell_type": "markdown",
      "source": [
        "Probabilidade"
      ],
      "metadata": {
        "id": "dW4HC7MqkoUr"
      }
    },
    {
      "cell_type": "markdown",
      "source": [
        "1° Ao jogar um dado, qual a probabilidade de obtermos um número ímpar voltado para cima?"
      ],
      "metadata": {
        "id": "qFpcptwKOd4z"
      }
    },
    {
      "cell_type": "code",
      "execution_count": null,
      "metadata": {
        "colab": {
          "base_uri": "https://localhost:8080/"
        },
        "id": "0eH_ZbOiOZ8d",
        "outputId": "7f7a0d60-5d64-4516-cd83-3f2943e53324"
      },
      "outputs": [
        {
          "output_type": "stream",
          "name": "stdout",
          "text": [
            "Digite o número de casos que interresam para você : 3\n",
            "Digite o número de casos possíveis: 6\n",
            "50.0%\n"
          ]
        }
      ],
      "source": [
        "casoInterresados = int(input(\"Digite o número de casos que interresam para você : \"))\n",
        "casosPossiveis = int(input(\"Digite o número de casos possíveis: \"))\n",
        "probabilidade  = casoInterresados / casosPossiveis\n",
        "print(str(probabilidade * 100) + \"%\")"
      ]
    },
    {
      "cell_type": "markdown",
      "source": [
        "2° Se lançarmos dois dados ao mesmo tempo, qual a probabilidade de dois números iguais ficarem voltados para cima?"
      ],
      "metadata": {
        "id": "EzEstkA-P0q9"
      }
    },
    {
      "cell_type": "markdown",
      "source": [],
      "metadata": {
        "id": "A9A2D_uMki6N"
      }
    },
    {
      "cell_type": "code",
      "source": [
        "dado = 6\n",
        "casosPossiveisDoisDados = dado * dado\n",
        "CasosNumerosIguais = int(input(\"Digite o número de casos com números iguais: \"))\n",
        "probabilidade = (CasosNumerosIguais / casosPossiveisDoisDados) * 100\n",
        "print(str(round(probabilidade,5)) + \"%\")\n"
      ],
      "metadata": {
        "colab": {
          "base_uri": "https://localhost:8080/"
        },
        "id": "nvubnJeyOz_n",
        "outputId": "11c3cb99-7b40-4f96-e48c-4f4478b639f7"
      },
      "execution_count": null,
      "outputs": [
        {
          "output_type": "stream",
          "name": "stdout",
          "text": [
            "Digite o número de casos com números iguais: 10\n",
            "27.77778%\n"
          ]
        }
      ]
    },
    {
      "cell_type": "markdown",
      "source": [
        "3° Se uma moeda é lançada 5 vezes, qual a probabilidade de sair \"cara\" 3 vezes?"
      ],
      "metadata": {
        "id": "8oh4ng9FTngP"
      }
    },
    {
      "cell_type": "code",
      "source": [
        "possibilidadesMoeda = 2\n",
        "possibilidades5Moedas = 2 ** 5\n",
        "possibilidade3caras = 10\n",
        "probabilidade = (possibilidade3caras/possibilidades5Moedas) * 100\n",
        "print(str(probabilidade) + \"%\")"
      ],
      "metadata": {
        "colab": {
          "base_uri": "https://localhost:8080/"
        },
        "id": "bNG50-NOTvY6",
        "outputId": "cd729766-f607-4f80-fc58-8d03f45cb933"
      },
      "execution_count": null,
      "outputs": [
        {
          "output_type": "stream",
          "name": "stdout",
          "text": [
            "31.25%\n"
          ]
        }
      ]
    },
    {
      "cell_type": "markdown",
      "source": [
        "4° Sorteando-se um número de 1 a 20, qual a probabilidade de que esse número seja múltiplo de 2?"
      ],
      "metadata": {
        "id": "cgnqZRvqVO1M"
      }
    },
    {
      "cell_type": "code",
      "source": [
        "numeros = 20\n",
        "multiplosde2entre1e20 = numeros / 2\n",
        "probabilidade = (multiplosde2entre1e20 / numeros) * 100\n",
        "print(str(probabilidade) + \"%\")\n"
      ],
      "metadata": {
        "colab": {
          "base_uri": "https://localhost:8080/"
        },
        "id": "q-pc_DAaVOIJ",
        "outputId": "7dec9e4a-4975-48f7-e303-42788bfffa5c"
      },
      "execution_count": null,
      "outputs": [
        {
          "output_type": "stream",
          "name": "stdout",
          "text": [
            "50.0%\n"
          ]
        }
      ]
    },
    {
      "cell_type": "markdown",
      "source": [
        "Variável Aleatória Discreta"
      ],
      "metadata": {
        "id": "8rgezm2RlA1S"
      }
    },
    {
      "cell_type": "markdown",
      "source": [
        "1° Seja X é uma VA definida como o número de caras em 12\n",
        "lançamentos de uma moeda. Calcule a probabilidade de sair 5 caras em 12\n",
        "lançamentos."
      ],
      "metadata": {
        "id": "atdD0e7Mlbcg"
      }
    },
    {
      "cell_type": "code",
      "source": [
        "from math import comb\n"
      ],
      "metadata": {
        "id": "JCb879bkkgtf"
      },
      "execution_count": null,
      "outputs": []
    },
    {
      "cell_type": "code",
      "source": [
        "def probabilidade_5_caras(n, p, k):\n",
        "    probabilidade = comb(n, k) * (p ** k) * ((1 - p) ** (n - k))\n",
        "    return probabilidade"
      ],
      "metadata": {
        "id": "p6JGsNoSlLk1"
      },
      "execution_count": null,
      "outputs": []
    },
    {
      "cell_type": "code",
      "source": [
        "n_lancamentos = 12\n",
        "p_sucesso = 0.5\n",
        "k_sucessos = 5"
      ],
      "metadata": {
        "id": "HdW26OkvlTqA"
      },
      "execution_count": null,
      "outputs": []
    },
    {
      "cell_type": "code",
      "source": [
        "probabilidade_5_caras = probabilidade_5_caras(n_lancamentos, p_sucesso, k_sucessos)\n",
        "print(\"A probabilidade de sair 5 caras em 12 lançamentos é:\", probabilidade_5_caras)"
      ],
      "metadata": {
        "colab": {
          "base_uri": "https://localhost:8080/"
        },
        "id": "oXv1IgtmlOOc",
        "outputId": "75ebd77b-eef7-436c-b894-e3a10b684e5c"
      },
      "execution_count": null,
      "outputs": [
        {
          "output_type": "stream",
          "name": "stdout",
          "text": [
            "A probabilidade de sair 5 caras em 12 lançamentos é: 0.193359375\n"
          ]
        }
      ]
    },
    {
      "cell_type": "markdown",
      "source": [
        "2° Uma central de telefone recebe, em média 12 chamadas\n",
        "por minuto. Qual a probabilidade de que esta mesma central receba de 10\n",
        "chamadas por minuto?"
      ],
      "metadata": {
        "id": "iFcbfO1Ql9vD"
      }
    },
    {
      "cell_type": "code",
      "source": [
        "from math import exp\n",
        "from math import factorial\n",
        "\n",
        "def probabilidade_poisson(lambd, k):\n",
        "  return (exp(-lambd) * (lambd ** k)) / factorial(k)"
      ],
      "metadata": {
        "id": "K4y2QFKHmOrb"
      },
      "execution_count": null,
      "outputs": []
    },
    {
      "cell_type": "code",
      "source": [
        "media_chamadas_por_minuto = 12\n",
        "chamadas_desejadas = 10"
      ],
      "metadata": {
        "id": "yc0d_2HTmpyJ"
      },
      "execution_count": null,
      "outputs": []
    },
    {
      "cell_type": "code",
      "source": [
        "probabilidade_10_chamadas = probabilidade_poisson(media_chamadas_por_minuto, chamadas_desejadas)\n",
        "print(\"A probabilidade de receber 10 chamadas por minuto é:\", probabilidade_10_chamadas)"
      ],
      "metadata": {
        "colab": {
          "base_uri": "https://localhost:8080/"
        },
        "id": "FsYHm9pkmqnU",
        "outputId": "e9189ff9-0dd4-4f0a-9b31-69f753208e40"
      },
      "execution_count": null,
      "outputs": [
        {
          "output_type": "stream",
          "name": "stdout",
          "text": [
            "A probabilidade de receber 10 chamadas por minuto é: 0.10483725588365932\n"
          ]
        }
      ]
    },
    {
      "cell_type": "markdown",
      "source": [
        "3° De um baralho de 52 cartas, retiram-se 8 cartas ao acaso,\n",
        "sem reposição. Qual a probabilidade de que 4 sejam figuras?"
      ],
      "metadata": {
        "id": "rrF1iGp9nCG-"
      }
    },
    {
      "cell_type": "code",
      "source": [
        "from math import comb\n",
        "def probabilidade_4_figuras():\n",
        "  combinacoes_figuras = comb(12, 4)  # Escolha de 4 figuras entre as 12 disponíveis\n",
        "  combinacoes_outros = comb(40, 4)  # Escolha de 4 cartas não-figuras entre as 40 restantes\n",
        "  combinacoes_total = comb(52, 8)  # Escolha de 8 cartas entre as 52 do baralho\n",
        "  probabilidade = (combinacoes_figuras * combinacoes_outros) / combinacoes_total\n",
        "  return probabilidade"
      ],
      "metadata": {
        "id": "3xxPyC0EnGHD"
      },
      "execution_count": null,
      "outputs": []
    },
    {
      "cell_type": "markdown",
      "source": [],
      "metadata": {
        "id": "OGCuvWyNn7tm"
      }
    },
    {
      "cell_type": "code",
      "source": [
        "probabilidade = probabilidade_4_figuras()\n",
        "print(\"A probabilidade de que 4 das 8 cartas sejam figuras é:\", probabilidade)"
      ],
      "metadata": {
        "colab": {
          "base_uri": "https://localhost:8080/"
        },
        "id": "WW2ni5osnprC",
        "outputId": "729b1998-e7fb-44d0-f9bd-126c3700141f"
      },
      "execution_count": null,
      "outputs": [
        {
          "output_type": "stream",
          "name": "stdout",
          "text": [
            "A probabilidade de que 4 das 8 cartas sejam figuras é: 0.06011396232868726\n"
          ]
        }
      ]
    },
    {
      "cell_type": "markdown",
      "source": [
        "Variável aleatória Contínua"
      ],
      "metadata": {
        "id": "HGWKAeS1p6fx"
      }
    },
    {
      "cell_type": "markdown",
      "source": [
        "1° Suponha que o tempo de vida, em horas, de uma lâmpada de LED segue uma distribuição exponencial com média de 500 horas. Qual é a probabilidade de uma lâmpada durar mais de 600 horas?"
      ],
      "metadata": {
        "id": "477bGWdrqHjq"
      }
    },
    {
      "cell_type": "code",
      "source": [
        "from scipy.stats import expon\n",
        "\n",
        "media = 500\n",
        "tempo_limite = 600\n",
        "\n",
        "probabilidade = 1 - expon.cdf(tempo_limite, scale=media)\n",
        "print(\"A probabilidade de uma lâmpada durar mais de 600 horas é:\", probabilidade)"
      ],
      "metadata": {
        "colab": {
          "base_uri": "https://localhost:8080/"
        },
        "id": "-iqMVgb_qFeq",
        "outputId": "131a403d-707d-46ae-a300-e6ead967fff0"
      },
      "execution_count": null,
      "outputs": [
        {
          "output_type": "stream",
          "name": "stdout",
          "text": [
            "A probabilidade de uma lâmpada durar mais de 600 horas é: 0.3011942119122022\n"
          ]
        }
      ]
    },
    {
      "cell_type": "markdown",
      "source": [
        "2° Suponha que o peso de certa fruta, em gramas, segue uma distribuição normal com média de 150g e desvio padrão de 20g. Qual é a probabilidade de uma fruta pesar mais que 170g?"
      ],
      "metadata": {
        "id": "tK10hIinqSIg"
      }
    },
    {
      "cell_type": "code",
      "source": [
        "from scipy.stats import norm\n",
        "\n",
        "media = 150\n",
        "desvio_padrao = 20\n",
        "peso_limite = 170\n",
        "\n",
        "probabilidade = 1 - norm.cdf(peso_limite, loc=media, scale=desvio_padrao)\n",
        "print(\"A probabilidade de uma fruta pesar mais que 170g é:\", probabilidade)"
      ],
      "metadata": {
        "colab": {
          "base_uri": "https://localhost:8080/"
        },
        "id": "qSGFnvOCqRck",
        "outputId": "6750a2bc-4bef-4fc8-f565-3489fec4eb2f"
      },
      "execution_count": null,
      "outputs": [
        {
          "output_type": "stream",
          "name": "stdout",
          "text": [
            "A probabilidade de uma fruta pesar mais que 170g é: 0.15865525393145707\n"
          ]
        }
      ]
    },
    {
      "cell_type": "markdown",
      "source": [
        "3° Suponha que o tempo de espera em uma fila de banco, em minutos, segue uma distribuição uniforme no intervalo de 5 a 15 minutos. Qual é a probabilidade de um cliente esperar menos de 8 minutos?"
      ],
      "metadata": {
        "id": "FH05sYKDqZ2S"
      }
    },
    {
      "cell_type": "code",
      "source": [
        "from scipy.stats import uniform\n",
        "\n",
        "inicio_intervalo = 5\n",
        "fim_intervalo = 15\n",
        "tempo_limite = 8\n",
        "\n",
        "probabilidade = uniform.cdf(tempo_limite, loc=inicio_intervalo, scale=fim_intervalo-inicio_intervalo)\n",
        "print(\"A probabilidade de um cliente esperar menos de 8 minutos é:\", probabilidade)"
      ],
      "metadata": {
        "colab": {
          "base_uri": "https://localhost:8080/"
        },
        "id": "cOvZjT_1qdAH",
        "outputId": "7f4fac43-e1e6-46a5-b26e-887d00793713"
      },
      "execution_count": null,
      "outputs": [
        {
          "output_type": "stream",
          "name": "stdout",
          "text": [
            "A probabilidade de um cliente esperar menos de 8 minutos é: 0.3\n"
          ]
        }
      ]
    }
  ]
}